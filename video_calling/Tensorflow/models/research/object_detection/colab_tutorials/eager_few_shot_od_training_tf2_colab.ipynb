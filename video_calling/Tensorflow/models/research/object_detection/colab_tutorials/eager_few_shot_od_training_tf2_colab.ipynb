version https://git-lfs.github.com/spec/v1
oid sha256:6bc85ebe739badb0ddfdb9c611bc3e20daf3f8ab927899db714dee71ec5273ce
size 26939
