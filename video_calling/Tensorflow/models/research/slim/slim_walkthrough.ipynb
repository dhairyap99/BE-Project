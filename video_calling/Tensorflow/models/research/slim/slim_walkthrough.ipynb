version https://git-lfs.github.com/spec/v1
oid sha256:8819277ffece7b060b9676c0d4daf5f1aa0658c8a37f3c316870ba0b2bcce8b5
size 46225
